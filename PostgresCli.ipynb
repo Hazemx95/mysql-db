{
 "cells": [
  {
   "cell_type": "markdown",
   "metadata": {},
   "source": [
    "\\l -- show all databases \n",
    "\\c -- switch databases \n",
    "\\d \n",
    "\\dn\n",
    "\\dt\n",
    "\\dt myschema.t2"
   ]
  }
 ],
 "metadata": {
  "language_info": {
   "name": "python"
  }
 },
 "nbformat": 4,
 "nbformat_minor": 2
}
